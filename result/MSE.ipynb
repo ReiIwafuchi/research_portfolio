{
 "cells": [
  {
   "cell_type": "code",
   "execution_count": null,
   "metadata": {
    "id": "Wi4kCXWiHm5z"
   },
   "outputs": [],
   "source": [
    "import torch\n",
    "import numpy as np\n",
    "import pandas as pd\n",
    "from torch.utils.data import TensorDataset, DataLoader\n",
    "import matplotlib.pyplot as plt\n",
    "\n",
    "sdf = pd.read_csv('../data/sample_data.csv', index_col = 0)"
   ]
  },
  {
   "cell_type": "code",
   "execution_count": null,
   "metadata": {
    "colab": {
     "base_uri": "https://localhost:8080/",
     "height": 443
    },
    "executionInfo": {
     "elapsed": 279,
     "status": "ok",
     "timestamp": 1733215162943,
     "user": {
      "displayName": "岩淵澪",
      "userId": "05436590555405210115"
     },
     "user_tz": -540
    },
    "id": "05FF9At8Hr_u",
    "outputId": "78f702ba-fd47-4688-9349-a8c6634d88b6"
   },
   "outputs": [
    {
     "data": {
      "application/vnd.google.colaboratory.intrinsic+json": {
       "type": "dataframe",
       "variable_name": "dt"
      },
      "text/html": [
       "\n",
       "  <div id=\"df-9fee5630-e321-41e9-8ee2-bf906af92bb2\" class=\"colab-df-container\">\n",
       "    <div>\n",
       "<style scoped>\n",
       "    .dataframe tbody tr th:only-of-type {\n",
       "        vertical-align: middle;\n",
       "    }\n",
       "\n",
       "    .dataframe tbody tr th {\n",
       "        vertical-align: top;\n",
       "    }\n",
       "\n",
       "    .dataframe thead th {\n",
       "        text-align: right;\n",
       "    }\n",
       "</style>\n",
       "<table border=\"1\" class=\"dataframe\">\n",
       "  <thead>\n",
       "    <tr style=\"text-align: right;\">\n",
       "      <th></th>\n",
       "      <th>AAPL_Price</th>\n",
       "      <th>ABC_Price</th>\n",
       "      <th>ABIO_Price</th>\n",
       "      <th>ADBE_Price</th>\n",
       "      <th>ADI_Price</th>\n",
       "      <th>ADM_Price</th>\n",
       "      <th>ADP_Price</th>\n",
       "      <th>ADSK_Price</th>\n",
       "      <th>AEE_Price</th>\n",
       "      <th>AEP_Price</th>\n",
       "      <th>...</th>\n",
       "      <th>WM_Price</th>\n",
       "      <th>WMB_Price</th>\n",
       "      <th>WMT_Price</th>\n",
       "      <th>WY_Price</th>\n",
       "      <th>XEL_Price</th>\n",
       "      <th>XOM_Price</th>\n",
       "      <th>XRAY_Price</th>\n",
       "      <th>XRX_Price</th>\n",
       "      <th>YUM_Price</th>\n",
       "      <th>ZION_Price</th>\n",
       "    </tr>\n",
       "  </thead>\n",
       "  <tbody>\n",
       "    <tr>\n",
       "      <th>2002/4/2</th>\n",
       "      <td>-1.607440</td>\n",
       "      <td>-0.521959</td>\n",
       "      <td>-2.672306</td>\n",
       "      <td>-4.842094</td>\n",
       "      <td>-5.433252</td>\n",
       "      <td>-0.071055</td>\n",
       "      <td>-0.965385</td>\n",
       "      <td>-2.481649</td>\n",
       "      <td>0.071126</td>\n",
       "      <td>1.153808</td>\n",
       "      <td>...</td>\n",
       "      <td>-2.222292</td>\n",
       "      <td>1.752913</td>\n",
       "      <td>-1.063457</td>\n",
       "      <td>-0.857179</td>\n",
       "      <td>1.650298</td>\n",
       "      <td>1.247015</td>\n",
       "      <td>-0.575564</td>\n",
       "      <td>-3.489754</td>\n",
       "      <td>1.094754</td>\n",
       "      <td>-0.287957</td>\n",
       "    </tr>\n",
       "    <tr>\n",
       "      <th>2002/4/3</th>\n",
       "      <td>-1.338501</td>\n",
       "      <td>-1.745013</td>\n",
       "      <td>-13.353139</td>\n",
       "      <td>-0.077533</td>\n",
       "      <td>-2.796167</td>\n",
       "      <td>-2.373363</td>\n",
       "      <td>-3.044086</td>\n",
       "      <td>-4.439147</td>\n",
       "      <td>0.023701</td>\n",
       "      <td>-0.043299</td>\n",
       "      <td>...</td>\n",
       "      <td>-0.112374</td>\n",
       "      <td>-4.614558</td>\n",
       "      <td>-0.561517</td>\n",
       "      <td>0.275740</td>\n",
       "      <td>0.233571</td>\n",
       "      <td>-1.566944</td>\n",
       "      <td>-1.050065</td>\n",
       "      <td>-0.093503</td>\n",
       "      <td>-0.974458</td>\n",
       "      <td>-1.728488</td>\n",
       "    </tr>\n",
       "    <tr>\n",
       "      <th>2002/4/4</th>\n",
       "      <td>4.728711</td>\n",
       "      <td>-0.103632</td>\n",
       "      <td>-2.409755</td>\n",
       "      <td>-0.935316</td>\n",
       "      <td>1.151158</td>\n",
       "      <td>3.010988</td>\n",
       "      <td>0.000000</td>\n",
       "      <td>0.436832</td>\n",
       "      <td>0.354836</td>\n",
       "      <td>2.078727</td>\n",
       "      <td>...</td>\n",
       "      <td>-0.150096</td>\n",
       "      <td>-0.564917</td>\n",
       "      <td>1.153726</td>\n",
       "      <td>-1.222177</td>\n",
       "      <td>0.531260</td>\n",
       "      <td>-1.243680</td>\n",
       "      <td>2.170728</td>\n",
       "      <td>1.208770</td>\n",
       "      <td>0.496927</td>\n",
       "      <td>-1.355625</td>\n",
       "    </tr>\n",
       "    <tr>\n",
       "      <th>2002/4/5</th>\n",
       "      <td>-0.644705</td>\n",
       "      <td>-2.185677</td>\n",
       "      <td>-0.244197</td>\n",
       "      <td>-1.155188</td>\n",
       "      <td>-0.187008</td>\n",
       "      <td>-0.993623</td>\n",
       "      <td>0.362955</td>\n",
       "      <td>-1.293022</td>\n",
       "      <td>-0.426011</td>\n",
       "      <td>-0.702365</td>\n",
       "      <td>...</td>\n",
       "      <td>-1.399196</td>\n",
       "      <td>-2.514956</td>\n",
       "      <td>-0.236445</td>\n",
       "      <td>1.448735</td>\n",
       "      <td>-2.021939</td>\n",
       "      <td>-1.212426</td>\n",
       "      <td>-0.272157</td>\n",
       "      <td>-2.811821</td>\n",
       "      <td>1.105009</td>\n",
       "      <td>0.314460</td>\n",
       "    </tr>\n",
       "    <tr>\n",
       "      <th>2002/4/8</th>\n",
       "      <td>-0.730297</td>\n",
       "      <td>1.546915</td>\n",
       "      <td>2.415576</td>\n",
       "      <td>2.580626</td>\n",
       "      <td>0.116990</td>\n",
       "      <td>1.627197</td>\n",
       "      <td>1.313791</td>\n",
       "      <td>1.224163</td>\n",
       "      <td>0.685346</td>\n",
       "      <td>0.638722</td>\n",
       "      <td>...</td>\n",
       "      <td>0.076111</td>\n",
       "      <td>0.223107</td>\n",
       "      <td>1.076343</td>\n",
       "      <td>-0.778766</td>\n",
       "      <td>-0.361035</td>\n",
       "      <td>1.420770</td>\n",
       "      <td>4.137757</td>\n",
       "      <td>-1.147248</td>\n",
       "      <td>1.426818</td>\n",
       "      <td>0.833764</td>\n",
       "    </tr>\n",
       "    <tr>\n",
       "      <th>...</th>\n",
       "      <td>...</td>\n",
       "      <td>...</td>\n",
       "      <td>...</td>\n",
       "      <td>...</td>\n",
       "      <td>...</td>\n",
       "      <td>...</td>\n",
       "      <td>...</td>\n",
       "      <td>...</td>\n",
       "      <td>...</td>\n",
       "      <td>...</td>\n",
       "      <td>...</td>\n",
       "      <td>...</td>\n",
       "      <td>...</td>\n",
       "      <td>...</td>\n",
       "      <td>...</td>\n",
       "      <td>...</td>\n",
       "      <td>...</td>\n",
       "      <td>...</td>\n",
       "      <td>...</td>\n",
       "      <td>...</td>\n",
       "      <td>...</td>\n",
       "    </tr>\n",
       "    <tr>\n",
       "      <th>2023/3/24</th>\n",
       "      <td>0.827129</td>\n",
       "      <td>3.566468</td>\n",
       "      <td>2.433210</td>\n",
       "      <td>1.602269</td>\n",
       "      <td>-0.933345</td>\n",
       "      <td>1.950772</td>\n",
       "      <td>0.238462</td>\n",
       "      <td>-0.458441</td>\n",
       "      <td>4.167016</td>\n",
       "      <td>4.218381</td>\n",
       "      <td>...</td>\n",
       "      <td>2.464412</td>\n",
       "      <td>1.542811</td>\n",
       "      <td>0.814314</td>\n",
       "      <td>0.844488</td>\n",
       "      <td>3.476995</td>\n",
       "      <td>0.115971</td>\n",
       "      <td>1.324167</td>\n",
       "      <td>0.479612</td>\n",
       "      <td>0.117414</td>\n",
       "      <td>2.872725</td>\n",
       "    </tr>\n",
       "    <tr>\n",
       "      <th>2023/3/27</th>\n",
       "      <td>-1.236949</td>\n",
       "      <td>0.178855</td>\n",
       "      <td>-0.481929</td>\n",
       "      <td>-0.483886</td>\n",
       "      <td>-1.567985</td>\n",
       "      <td>1.477092</td>\n",
       "      <td>0.107352</td>\n",
       "      <td>-0.736901</td>\n",
       "      <td>-0.059517</td>\n",
       "      <td>-0.607965</td>\n",
       "      <td>...</td>\n",
       "      <td>-0.571359</td>\n",
       "      <td>0.658924</td>\n",
       "      <td>1.657551</td>\n",
       "      <td>0.559051</td>\n",
       "      <td>-0.397436</td>\n",
       "      <td>2.168913</td>\n",
       "      <td>0.748857</td>\n",
       "      <td>2.564244</td>\n",
       "      <td>0.359200</td>\n",
       "      <td>3.751743</td>\n",
       "    </tr>\n",
       "    <tr>\n",
       "      <th>2023/3/28</th>\n",
       "      <td>-0.398826</td>\n",
       "      <td>0.832569</td>\n",
       "      <td>-1.951281</td>\n",
       "      <td>0.066975</td>\n",
       "      <td>-0.635232</td>\n",
       "      <td>1.023685</td>\n",
       "      <td>-0.098017</td>\n",
       "      <td>-0.747438</td>\n",
       "      <td>0.688187</td>\n",
       "      <td>0.428215</td>\n",
       "      <td>...</td>\n",
       "      <td>0.804158</td>\n",
       "      <td>-0.207609</td>\n",
       "      <td>-0.389185</td>\n",
       "      <td>-0.980403</td>\n",
       "      <td>0.168339</td>\n",
       "      <td>1.239918</td>\n",
       "      <td>0.584490</td>\n",
       "      <td>-2.427633</td>\n",
       "      <td>0.163563</td>\n",
       "      <td>2.091847</td>\n",
       "    </tr>\n",
       "    <tr>\n",
       "      <th>2023/3/29</th>\n",
       "      <td>1.959745</td>\n",
       "      <td>0.612048</td>\n",
       "      <td>-0.990107</td>\n",
       "      <td>1.530808</td>\n",
       "      <td>2.988656</td>\n",
       "      <td>0.558583</td>\n",
       "      <td>2.649619</td>\n",
       "      <td>0.953517</td>\n",
       "      <td>1.688400</td>\n",
       "      <td>1.307060</td>\n",
       "      <td>...</td>\n",
       "      <td>1.423731</td>\n",
       "      <td>1.376007</td>\n",
       "      <td>0.430792</td>\n",
       "      <td>2.261359</td>\n",
       "      <td>1.728100</td>\n",
       "      <td>1.703110</td>\n",
       "      <td>-0.079489</td>\n",
       "      <td>1.624955</td>\n",
       "      <td>-0.070060</td>\n",
       "      <td>3.574737</td>\n",
       "    </tr>\n",
       "    <tr>\n",
       "      <th>2023/3/30</th>\n",
       "      <td>0.984130</td>\n",
       "      <td>0.232475</td>\n",
       "      <td>0.000000</td>\n",
       "      <td>0.720049</td>\n",
       "      <td>2.629401</td>\n",
       "      <td>0.605837</td>\n",
       "      <td>-0.186617</td>\n",
       "      <td>1.222660</td>\n",
       "      <td>0.510259</td>\n",
       "      <td>0.365593</td>\n",
       "      <td>...</td>\n",
       "      <td>2.819037</td>\n",
       "      <td>0.477165</td>\n",
       "      <td>0.993456</td>\n",
       "      <td>0.617286</td>\n",
       "      <td>0.554521</td>\n",
       "      <td>0.485237</td>\n",
       "      <td>2.574345</td>\n",
       "      <td>1.356873</td>\n",
       "      <td>0.713899</td>\n",
       "      <td>-2.412905</td>\n",
       "    </tr>\n",
       "  </tbody>\n",
       "</table>\n",
       "<p>5287 rows × 331 columns</p>\n",
       "</div>\n",
       "    <div class=\"colab-df-buttons\">\n",
       "\n",
       "  <div class=\"colab-df-container\">\n",
       "    <button class=\"colab-df-convert\" onclick=\"convertToInteractive('df-9fee5630-e321-41e9-8ee2-bf906af92bb2')\"\n",
       "            title=\"Convert this dataframe to an interactive table.\"\n",
       "            style=\"display:none;\">\n",
       "\n",
       "  <svg xmlns=\"http://www.w3.org/2000/svg\" height=\"24px\" viewBox=\"0 -960 960 960\">\n",
       "    <path d=\"M120-120v-720h720v720H120Zm60-500h600v-160H180v160Zm220 220h160v-160H400v160Zm0 220h160v-160H400v160ZM180-400h160v-160H180v160Zm440 0h160v-160H620v160ZM180-180h160v-160H180v160Zm440 0h160v-160H620v160Z\"/>\n",
       "  </svg>\n",
       "    </button>\n",
       "\n",
       "  <style>\n",
       "    .colab-df-container {\n",
       "      display:flex;\n",
       "      gap: 12px;\n",
       "    }\n",
       "\n",
       "    .colab-df-convert {\n",
       "      background-color: #E8F0FE;\n",
       "      border: none;\n",
       "      border-radius: 50%;\n",
       "      cursor: pointer;\n",
       "      display: none;\n",
       "      fill: #1967D2;\n",
       "      height: 32px;\n",
       "      padding: 0 0 0 0;\n",
       "      width: 32px;\n",
       "    }\n",
       "\n",
       "    .colab-df-convert:hover {\n",
       "      background-color: #E2EBFA;\n",
       "      box-shadow: 0px 1px 2px rgba(60, 64, 67, 0.3), 0px 1px 3px 1px rgba(60, 64, 67, 0.15);\n",
       "      fill: #174EA6;\n",
       "    }\n",
       "\n",
       "    .colab-df-buttons div {\n",
       "      margin-bottom: 4px;\n",
       "    }\n",
       "\n",
       "    [theme=dark] .colab-df-convert {\n",
       "      background-color: #3B4455;\n",
       "      fill: #D2E3FC;\n",
       "    }\n",
       "\n",
       "    [theme=dark] .colab-df-convert:hover {\n",
       "      background-color: #434B5C;\n",
       "      box-shadow: 0px 1px 3px 1px rgba(0, 0, 0, 0.15);\n",
       "      filter: drop-shadow(0px 1px 2px rgba(0, 0, 0, 0.3));\n",
       "      fill: #FFFFFF;\n",
       "    }\n",
       "  </style>\n",
       "\n",
       "    <script>\n",
       "      const buttonEl =\n",
       "        document.querySelector('#df-9fee5630-e321-41e9-8ee2-bf906af92bb2 button.colab-df-convert');\n",
       "      buttonEl.style.display =\n",
       "        google.colab.kernel.accessAllowed ? 'block' : 'none';\n",
       "\n",
       "      async function convertToInteractive(key) {\n",
       "        const element = document.querySelector('#df-9fee5630-e321-41e9-8ee2-bf906af92bb2');\n",
       "        const dataTable =\n",
       "          await google.colab.kernel.invokeFunction('convertToInteractive',\n",
       "                                                    [key], {});\n",
       "        if (!dataTable) return;\n",
       "\n",
       "        const docLinkHtml = 'Like what you see? Visit the ' +\n",
       "          '<a target=\"_blank\" href=https://colab.research.google.com/notebooks/data_table.ipynb>data table notebook</a>'\n",
       "          + ' to learn more about interactive tables.';\n",
       "        element.innerHTML = '';\n",
       "        dataTable['output_type'] = 'display_data';\n",
       "        await google.colab.output.renderOutput(dataTable, element);\n",
       "        const docLink = document.createElement('div');\n",
       "        docLink.innerHTML = docLinkHtml;\n",
       "        element.appendChild(docLink);\n",
       "      }\n",
       "    </script>\n",
       "  </div>\n",
       "\n",
       "\n",
       "<div id=\"df-411fdb49-aa23-40ba-add6-9f8fc41d518f\">\n",
       "  <button class=\"colab-df-quickchart\" onclick=\"quickchart('df-411fdb49-aa23-40ba-add6-9f8fc41d518f')\"\n",
       "            title=\"Suggest charts\"\n",
       "            style=\"display:none;\">\n",
       "\n",
       "<svg xmlns=\"http://www.w3.org/2000/svg\" height=\"24px\"viewBox=\"0 0 24 24\"\n",
       "     width=\"24px\">\n",
       "    <g>\n",
       "        <path d=\"M19 3H5c-1.1 0-2 .9-2 2v14c0 1.1.9 2 2 2h14c1.1 0 2-.9 2-2V5c0-1.1-.9-2-2-2zM9 17H7v-7h2v7zm4 0h-2V7h2v10zm4 0h-2v-4h2v4z\"/>\n",
       "    </g>\n",
       "</svg>\n",
       "  </button>\n",
       "\n",
       "<style>\n",
       "  .colab-df-quickchart {\n",
       "      --bg-color: #E8F0FE;\n",
       "      --fill-color: #1967D2;\n",
       "      --hover-bg-color: #E2EBFA;\n",
       "      --hover-fill-color: #174EA6;\n",
       "      --disabled-fill-color: #AAA;\n",
       "      --disabled-bg-color: #DDD;\n",
       "  }\n",
       "\n",
       "  [theme=dark] .colab-df-quickchart {\n",
       "      --bg-color: #3B4455;\n",
       "      --fill-color: #D2E3FC;\n",
       "      --hover-bg-color: #434B5C;\n",
       "      --hover-fill-color: #FFFFFF;\n",
       "      --disabled-bg-color: #3B4455;\n",
       "      --disabled-fill-color: #666;\n",
       "  }\n",
       "\n",
       "  .colab-df-quickchart {\n",
       "    background-color: var(--bg-color);\n",
       "    border: none;\n",
       "    border-radius: 50%;\n",
       "    cursor: pointer;\n",
       "    display: none;\n",
       "    fill: var(--fill-color);\n",
       "    height: 32px;\n",
       "    padding: 0;\n",
       "    width: 32px;\n",
       "  }\n",
       "\n",
       "  .colab-df-quickchart:hover {\n",
       "    background-color: var(--hover-bg-color);\n",
       "    box-shadow: 0 1px 2px rgba(60, 64, 67, 0.3), 0 1px 3px 1px rgba(60, 64, 67, 0.15);\n",
       "    fill: var(--button-hover-fill-color);\n",
       "  }\n",
       "\n",
       "  .colab-df-quickchart-complete:disabled,\n",
       "  .colab-df-quickchart-complete:disabled:hover {\n",
       "    background-color: var(--disabled-bg-color);\n",
       "    fill: var(--disabled-fill-color);\n",
       "    box-shadow: none;\n",
       "  }\n",
       "\n",
       "  .colab-df-spinner {\n",
       "    border: 2px solid var(--fill-color);\n",
       "    border-color: transparent;\n",
       "    border-bottom-color: var(--fill-color);\n",
       "    animation:\n",
       "      spin 1s steps(1) infinite;\n",
       "  }\n",
       "\n",
       "  @keyframes spin {\n",
       "    0% {\n",
       "      border-color: transparent;\n",
       "      border-bottom-color: var(--fill-color);\n",
       "      border-left-color: var(--fill-color);\n",
       "    }\n",
       "    20% {\n",
       "      border-color: transparent;\n",
       "      border-left-color: var(--fill-color);\n",
       "      border-top-color: var(--fill-color);\n",
       "    }\n",
       "    30% {\n",
       "      border-color: transparent;\n",
       "      border-left-color: var(--fill-color);\n",
       "      border-top-color: var(--fill-color);\n",
       "      border-right-color: var(--fill-color);\n",
       "    }\n",
       "    40% {\n",
       "      border-color: transparent;\n",
       "      border-right-color: var(--fill-color);\n",
       "      border-top-color: var(--fill-color);\n",
       "    }\n",
       "    60% {\n",
       "      border-color: transparent;\n",
       "      border-right-color: var(--fill-color);\n",
       "    }\n",
       "    80% {\n",
       "      border-color: transparent;\n",
       "      border-right-color: var(--fill-color);\n",
       "      border-bottom-color: var(--fill-color);\n",
       "    }\n",
       "    90% {\n",
       "      border-color: transparent;\n",
       "      border-bottom-color: var(--fill-color);\n",
       "    }\n",
       "  }\n",
       "</style>\n",
       "\n",
       "  <script>\n",
       "    async function quickchart(key) {\n",
       "      const quickchartButtonEl =\n",
       "        document.querySelector('#' + key + ' button');\n",
       "      quickchartButtonEl.disabled = true;  // To prevent multiple clicks.\n",
       "      quickchartButtonEl.classList.add('colab-df-spinner');\n",
       "      try {\n",
       "        const charts = await google.colab.kernel.invokeFunction(\n",
       "            'suggestCharts', [key], {});\n",
       "      } catch (error) {\n",
       "        console.error('Error during call to suggestCharts:', error);\n",
       "      }\n",
       "      quickchartButtonEl.classList.remove('colab-df-spinner');\n",
       "      quickchartButtonEl.classList.add('colab-df-quickchart-complete');\n",
       "    }\n",
       "    (() => {\n",
       "      let quickchartButtonEl =\n",
       "        document.querySelector('#df-411fdb49-aa23-40ba-add6-9f8fc41d518f button');\n",
       "      quickchartButtonEl.style.display =\n",
       "        google.colab.kernel.accessAllowed ? 'block' : 'none';\n",
       "    })();\n",
       "  </script>\n",
       "</div>\n",
       "\n",
       "  <div id=\"id_b8fac458-7d63-4f4e-aece-593421a404dc\">\n",
       "    <style>\n",
       "      .colab-df-generate {\n",
       "        background-color: #E8F0FE;\n",
       "        border: none;\n",
       "        border-radius: 50%;\n",
       "        cursor: pointer;\n",
       "        display: none;\n",
       "        fill: #1967D2;\n",
       "        height: 32px;\n",
       "        padding: 0 0 0 0;\n",
       "        width: 32px;\n",
       "      }\n",
       "\n",
       "      .colab-df-generate:hover {\n",
       "        background-color: #E2EBFA;\n",
       "        box-shadow: 0px 1px 2px rgba(60, 64, 67, 0.3), 0px 1px 3px 1px rgba(60, 64, 67, 0.15);\n",
       "        fill: #174EA6;\n",
       "      }\n",
       "\n",
       "      [theme=dark] .colab-df-generate {\n",
       "        background-color: #3B4455;\n",
       "        fill: #D2E3FC;\n",
       "      }\n",
       "\n",
       "      [theme=dark] .colab-df-generate:hover {\n",
       "        background-color: #434B5C;\n",
       "        box-shadow: 0px 1px 3px 1px rgba(0, 0, 0, 0.15);\n",
       "        filter: drop-shadow(0px 1px 2px rgba(0, 0, 0, 0.3));\n",
       "        fill: #FFFFFF;\n",
       "      }\n",
       "    </style>\n",
       "    <button class=\"colab-df-generate\" onclick=\"generateWithVariable('dt')\"\n",
       "            title=\"Generate code using this dataframe.\"\n",
       "            style=\"display:none;\">\n",
       "\n",
       "  <svg xmlns=\"http://www.w3.org/2000/svg\" height=\"24px\"viewBox=\"0 0 24 24\"\n",
       "       width=\"24px\">\n",
       "    <path d=\"M7,19H8.4L18.45,9,17,7.55,7,17.6ZM5,21V16.75L18.45,3.32a2,2,0,0,1,2.83,0l1.4,1.43a1.91,1.91,0,0,1,.58,1.4,1.91,1.91,0,0,1-.58,1.4L9.25,21ZM18.45,9,17,7.55Zm-12,3A5.31,5.31,0,0,0,4.9,8.1,5.31,5.31,0,0,0,1,6.5,5.31,5.31,0,0,0,4.9,4.9,5.31,5.31,0,0,0,6.5,1,5.31,5.31,0,0,0,8.1,4.9,5.31,5.31,0,0,0,12,6.5,5.46,5.46,0,0,0,6.5,12Z\"/>\n",
       "  </svg>\n",
       "    </button>\n",
       "    <script>\n",
       "      (() => {\n",
       "      const buttonEl =\n",
       "        document.querySelector('#id_b8fac458-7d63-4f4e-aece-593421a404dc button.colab-df-generate');\n",
       "      buttonEl.style.display =\n",
       "        google.colab.kernel.accessAllowed ? 'block' : 'none';\n",
       "\n",
       "      buttonEl.onclick = () => {\n",
       "        google.colab.notebook.generateWithVariable('dt');\n",
       "      }\n",
       "      })();\n",
       "    </script>\n",
       "  </div>\n",
       "\n",
       "    </div>\n",
       "  </div>\n"
      ],
      "text/plain": [
       "           AAPL_Price  ABC_Price  ABIO_Price  ADBE_Price  ADI_Price  \\\n",
       "2002/4/2    -1.607440  -0.521959   -2.672306   -4.842094  -5.433252   \n",
       "2002/4/3    -1.338501  -1.745013  -13.353139   -0.077533  -2.796167   \n",
       "2002/4/4     4.728711  -0.103632   -2.409755   -0.935316   1.151158   \n",
       "2002/4/5    -0.644705  -2.185677   -0.244197   -1.155188  -0.187008   \n",
       "2002/4/8    -0.730297   1.546915    2.415576    2.580626   0.116990   \n",
       "...               ...        ...         ...         ...        ...   \n",
       "2023/3/24    0.827129   3.566468    2.433210    1.602269  -0.933345   \n",
       "2023/3/27   -1.236949   0.178855   -0.481929   -0.483886  -1.567985   \n",
       "2023/3/28   -0.398826   0.832569   -1.951281    0.066975  -0.635232   \n",
       "2023/3/29    1.959745   0.612048   -0.990107    1.530808   2.988656   \n",
       "2023/3/30    0.984130   0.232475    0.000000    0.720049   2.629401   \n",
       "\n",
       "           ADM_Price  ADP_Price  ADSK_Price  AEE_Price  AEP_Price  ...  \\\n",
       "2002/4/2   -0.071055  -0.965385   -2.481649   0.071126   1.153808  ...   \n",
       "2002/4/3   -2.373363  -3.044086   -4.439147   0.023701  -0.043299  ...   \n",
       "2002/4/4    3.010988   0.000000    0.436832   0.354836   2.078727  ...   \n",
       "2002/4/5   -0.993623   0.362955   -1.293022  -0.426011  -0.702365  ...   \n",
       "2002/4/8    1.627197   1.313791    1.224163   0.685346   0.638722  ...   \n",
       "...              ...        ...         ...        ...        ...  ...   \n",
       "2023/3/24   1.950772   0.238462   -0.458441   4.167016   4.218381  ...   \n",
       "2023/3/27   1.477092   0.107352   -0.736901  -0.059517  -0.607965  ...   \n",
       "2023/3/28   1.023685  -0.098017   -0.747438   0.688187   0.428215  ...   \n",
       "2023/3/29   0.558583   2.649619    0.953517   1.688400   1.307060  ...   \n",
       "2023/3/30   0.605837  -0.186617    1.222660   0.510259   0.365593  ...   \n",
       "\n",
       "           WM_Price  WMB_Price  WMT_Price  WY_Price  XEL_Price  XOM_Price  \\\n",
       "2002/4/2  -2.222292   1.752913  -1.063457 -0.857179   1.650298   1.247015   \n",
       "2002/4/3  -0.112374  -4.614558  -0.561517  0.275740   0.233571  -1.566944   \n",
       "2002/4/4  -0.150096  -0.564917   1.153726 -1.222177   0.531260  -1.243680   \n",
       "2002/4/5  -1.399196  -2.514956  -0.236445  1.448735  -2.021939  -1.212426   \n",
       "2002/4/8   0.076111   0.223107   1.076343 -0.778766  -0.361035   1.420770   \n",
       "...             ...        ...        ...       ...        ...        ...   \n",
       "2023/3/24  2.464412   1.542811   0.814314  0.844488   3.476995   0.115971   \n",
       "2023/3/27 -0.571359   0.658924   1.657551  0.559051  -0.397436   2.168913   \n",
       "2023/3/28  0.804158  -0.207609  -0.389185 -0.980403   0.168339   1.239918   \n",
       "2023/3/29  1.423731   1.376007   0.430792  2.261359   1.728100   1.703110   \n",
       "2023/3/30  2.819037   0.477165   0.993456  0.617286   0.554521   0.485237   \n",
       "\n",
       "           XRAY_Price  XRX_Price  YUM_Price  ZION_Price  \n",
       "2002/4/2    -0.575564  -3.489754   1.094754   -0.287957  \n",
       "2002/4/3    -1.050065  -0.093503  -0.974458   -1.728488  \n",
       "2002/4/4     2.170728   1.208770   0.496927   -1.355625  \n",
       "2002/4/5    -0.272157  -2.811821   1.105009    0.314460  \n",
       "2002/4/8     4.137757  -1.147248   1.426818    0.833764  \n",
       "...               ...        ...        ...         ...  \n",
       "2023/3/24    1.324167   0.479612   0.117414    2.872725  \n",
       "2023/3/27    0.748857   2.564244   0.359200    3.751743  \n",
       "2023/3/28    0.584490  -2.427633   0.163563    2.091847  \n",
       "2023/3/29   -0.079489   1.624955  -0.070060    3.574737  \n",
       "2023/3/30    2.574345   1.356873   0.713899   -2.412905  \n",
       "\n",
       "[5287 rows x 331 columns]"
      ]
     },
     "metadata": {},
     "output_type": "display_data"
    }
   ],
   "source": [
    "ndt = np.array(sdf)\n",
    "dt = 100*(np.log(ndt[1:,:])-np.log(ndt[:-1,:]))\n",
    "dt = pd.DataFrame(dt, index=sdf.iloc[1:,:].index, columns=sdf.columns)\n",
    "display(dt)"
   ]
  },
  {
   "cell_type": "code",
   "execution_count": null,
   "metadata": {
    "id": "BlxLwCTyHt5a"
   },
   "outputs": [],
   "source": [
    "dt = dt.replace(0, 1e-5)"
   ]
  },
  {
   "cell_type": "code",
   "execution_count": null,
   "metadata": {
    "colab": {
     "base_uri": "https://localhost:8080/",
     "height": 443
    },
    "executionInfo": {
     "elapsed": 286,
     "status": "ok",
     "timestamp": 1733215163224,
     "user": {
      "displayName": "岩淵澪",
      "userId": "05436590555405210115"
     },
     "user_tz": -540
    },
    "id": "cAK5oSIDHwlW",
    "outputId": "a22fae9f-3838-4f35-e257-fb4d915969ba"
   },
   "outputs": [
    {
     "data": {
      "application/vnd.google.colaboratory.intrinsic+json": {
       "type": "dataframe",
       "variable_name": "dt_sl"
      },
      "text/html": [
       "\n",
       "  <div id=\"df-2f408df3-5678-4d32-932d-c937bf1e538f\" class=\"colab-df-container\">\n",
       "    <div>\n",
       "<style scoped>\n",
       "    .dataframe tbody tr th:only-of-type {\n",
       "        vertical-align: middle;\n",
       "    }\n",
       "\n",
       "    .dataframe tbody tr th {\n",
       "        vertical-align: top;\n",
       "    }\n",
       "\n",
       "    .dataframe thead th {\n",
       "        text-align: right;\n",
       "    }\n",
       "</style>\n",
       "<table border=\"1\" class=\"dataframe\">\n",
       "  <thead>\n",
       "    <tr style=\"text-align: right;\">\n",
       "      <th></th>\n",
       "      <th>AAPL_Price</th>\n",
       "      <th>ABC_Price</th>\n",
       "      <th>ABIO_Price</th>\n",
       "      <th>ADBE_Price</th>\n",
       "      <th>ADI_Price</th>\n",
       "      <th>ADM_Price</th>\n",
       "      <th>ADP_Price</th>\n",
       "      <th>ADSK_Price</th>\n",
       "      <th>AEE_Price</th>\n",
       "      <th>AEP_Price</th>\n",
       "      <th>...</th>\n",
       "      <th>WM_Price</th>\n",
       "      <th>WMB_Price</th>\n",
       "      <th>WMT_Price</th>\n",
       "      <th>WY_Price</th>\n",
       "      <th>XEL_Price</th>\n",
       "      <th>XOM_Price</th>\n",
       "      <th>XRAY_Price</th>\n",
       "      <th>XRX_Price</th>\n",
       "      <th>YUM_Price</th>\n",
       "      <th>ZION_Price</th>\n",
       "    </tr>\n",
       "  </thead>\n",
       "  <tbody>\n",
       "    <tr>\n",
       "      <th>2002/4/2</th>\n",
       "      <td>0.949286</td>\n",
       "      <td>-1.300333</td>\n",
       "      <td>1.965883</td>\n",
       "      <td>3.154695</td>\n",
       "      <td>3.385076</td>\n",
       "      <td>-5.288613</td>\n",
       "      <td>-0.070457</td>\n",
       "      <td>1.817846</td>\n",
       "      <td>-5.286608</td>\n",
       "      <td>0.286135</td>\n",
       "      <td>...</td>\n",
       "      <td>1.597078</td>\n",
       "      <td>1.122558</td>\n",
       "      <td>0.123050</td>\n",
       "      <td>-0.308217</td>\n",
       "      <td>1.001912</td>\n",
       "      <td>0.441506</td>\n",
       "      <td>-1.104811</td>\n",
       "      <td>2.499663</td>\n",
       "      <td>0.181060</td>\n",
       "      <td>-2.489890</td>\n",
       "    </tr>\n",
       "    <tr>\n",
       "      <th>2002/4/3</th>\n",
       "      <td>0.583101</td>\n",
       "      <td>1.113524</td>\n",
       "      <td>5.183503</td>\n",
       "      <td>-5.114101</td>\n",
       "      <td>2.056499</td>\n",
       "      <td>1.728616</td>\n",
       "      <td>2.226402</td>\n",
       "      <td>2.980924</td>\n",
       "      <td>-7.484443</td>\n",
       "      <td>-6.279253</td>\n",
       "      <td>...</td>\n",
       "      <td>-4.371841</td>\n",
       "      <td>3.058432</td>\n",
       "      <td>-1.154227</td>\n",
       "      <td>-2.576591</td>\n",
       "      <td>-2.908535</td>\n",
       "      <td>0.898254</td>\n",
       "      <td>0.097703</td>\n",
       "      <td>-4.739518</td>\n",
       "      <td>-0.051748</td>\n",
       "      <td>1.094494</td>\n",
       "    </tr>\n",
       "    <tr>\n",
       "      <th>2002/4/4</th>\n",
       "      <td>3.107305</td>\n",
       "      <td>-4.533823</td>\n",
       "      <td>1.759050</td>\n",
       "      <td>-0.133742</td>\n",
       "      <td>0.281537</td>\n",
       "      <td>2.204536</td>\n",
       "      <td>-23.025851</td>\n",
       "      <td>-1.656413</td>\n",
       "      <td>-2.072197</td>\n",
       "      <td>1.463512</td>\n",
       "      <td>...</td>\n",
       "      <td>-3.792964</td>\n",
       "      <td>-1.142154</td>\n",
       "      <td>0.285994</td>\n",
       "      <td>0.401267</td>\n",
       "      <td>-1.265009</td>\n",
       "      <td>0.436150</td>\n",
       "      <td>1.550125</td>\n",
       "      <td>0.379207</td>\n",
       "      <td>-1.398626</td>\n",
       "      <td>0.608525</td>\n",
       "    </tr>\n",
       "    <tr>\n",
       "      <th>2002/4/5</th>\n",
       "      <td>-0.877924</td>\n",
       "      <td>1.563852</td>\n",
       "      <td>-2.819560</td>\n",
       "      <td>0.288527</td>\n",
       "      <td>-3.353203</td>\n",
       "      <td>-0.012795</td>\n",
       "      <td>-2.026955</td>\n",
       "      <td>0.513965</td>\n",
       "      <td>-1.706578</td>\n",
       "      <td>-0.706603</td>\n",
       "      <td>...</td>\n",
       "      <td>0.671795</td>\n",
       "      <td>1.844511</td>\n",
       "      <td>-2.884077</td>\n",
       "      <td>0.741382</td>\n",
       "      <td>1.408114</td>\n",
       "      <td>0.385247</td>\n",
       "      <td>-2.602754</td>\n",
       "      <td>2.067665</td>\n",
       "      <td>0.199706</td>\n",
       "      <td>-2.313797</td>\n",
       "    </tr>\n",
       "    <tr>\n",
       "      <th>2002/4/8</th>\n",
       "      <td>-0.628609</td>\n",
       "      <td>0.872525</td>\n",
       "      <td>1.763876</td>\n",
       "      <td>1.896064</td>\n",
       "      <td>-4.291335</td>\n",
       "      <td>0.973718</td>\n",
       "      <td>0.545833</td>\n",
       "      <td>0.404514</td>\n",
       "      <td>-0.755662</td>\n",
       "      <td>-0.896573</td>\n",
       "      <td>...</td>\n",
       "      <td>-5.151136</td>\n",
       "      <td>-3.000204</td>\n",
       "      <td>0.147139</td>\n",
       "      <td>-0.500090</td>\n",
       "      <td>-2.037560</td>\n",
       "      <td>0.702398</td>\n",
       "      <td>2.840308</td>\n",
       "      <td>0.274733</td>\n",
       "      <td>0.710894</td>\n",
       "      <td>-0.363610</td>\n",
       "    </tr>\n",
       "    <tr>\n",
       "      <th>...</th>\n",
       "      <td>...</td>\n",
       "      <td>...</td>\n",
       "      <td>...</td>\n",
       "      <td>...</td>\n",
       "      <td>...</td>\n",
       "      <td>...</td>\n",
       "      <td>...</td>\n",
       "      <td>...</td>\n",
       "      <td>...</td>\n",
       "      <td>...</td>\n",
       "      <td>...</td>\n",
       "      <td>...</td>\n",
       "      <td>...</td>\n",
       "      <td>...</td>\n",
       "      <td>...</td>\n",
       "      <td>...</td>\n",
       "      <td>...</td>\n",
       "      <td>...</td>\n",
       "      <td>...</td>\n",
       "      <td>...</td>\n",
       "      <td>...</td>\n",
       "    </tr>\n",
       "    <tr>\n",
       "      <th>2023/3/24</th>\n",
       "      <td>-0.379590</td>\n",
       "      <td>2.543152</td>\n",
       "      <td>1.778423</td>\n",
       "      <td>0.942841</td>\n",
       "      <td>-0.137962</td>\n",
       "      <td>1.336451</td>\n",
       "      <td>-2.867092</td>\n",
       "      <td>-1.559847</td>\n",
       "      <td>2.854401</td>\n",
       "      <td>2.878903</td>\n",
       "      <td>...</td>\n",
       "      <td>1.803907</td>\n",
       "      <td>0.867212</td>\n",
       "      <td>-0.410818</td>\n",
       "      <td>-0.338050</td>\n",
       "      <td>2.492337</td>\n",
       "      <td>-4.308833</td>\n",
       "      <td>0.561567</td>\n",
       "      <td>-1.469555</td>\n",
       "      <td>-4.284101</td>\n",
       "      <td>2.110522</td>\n",
       "    </tr>\n",
       "    <tr>\n",
       "      <th>2023/3/27</th>\n",
       "      <td>0.425295</td>\n",
       "      <td>-3.442356</td>\n",
       "      <td>-1.459918</td>\n",
       "      <td>-1.451811</td>\n",
       "      <td>0.899582</td>\n",
       "      <td>0.780151</td>\n",
       "      <td>-4.463287</td>\n",
       "      <td>-0.610603</td>\n",
       "      <td>-5.642995</td>\n",
       "      <td>-0.995275</td>\n",
       "      <td>...</td>\n",
       "      <td>-1.119475</td>\n",
       "      <td>-0.834295</td>\n",
       "      <td>1.010682</td>\n",
       "      <td>-1.163029</td>\n",
       "      <td>-1.845445</td>\n",
       "      <td>1.548452</td>\n",
       "      <td>-0.578415</td>\n",
       "      <td>1.883327</td>\n",
       "      <td>-2.047752</td>\n",
       "      <td>2.644441</td>\n",
       "    </tr>\n",
       "    <tr>\n",
       "      <th>2023/3/28</th>\n",
       "      <td>-1.838459</td>\n",
       "      <td>-0.366479</td>\n",
       "      <td>1.336973</td>\n",
       "      <td>-5.406879</td>\n",
       "      <td>-0.907530</td>\n",
       "      <td>0.046818</td>\n",
       "      <td>-4.645222</td>\n",
       "      <td>-0.582207</td>\n",
       "      <td>-0.747388</td>\n",
       "      <td>-1.696262</td>\n",
       "      <td>...</td>\n",
       "      <td>-0.435919</td>\n",
       "      <td>-3.144197</td>\n",
       "      <td>-1.887403</td>\n",
       "      <td>-0.039582</td>\n",
       "      <td>-3.563553</td>\n",
       "      <td>0.430091</td>\n",
       "      <td>-1.074030</td>\n",
       "      <td>1.773834</td>\n",
       "      <td>-3.621111</td>\n",
       "      <td>1.476095</td>\n",
       "    </tr>\n",
       "    <tr>\n",
       "      <th>2023/3/29</th>\n",
       "      <td>1.345629</td>\n",
       "      <td>-0.981890</td>\n",
       "      <td>-0.019884</td>\n",
       "      <td>0.851591</td>\n",
       "      <td>2.189648</td>\n",
       "      <td>-1.164703</td>\n",
       "      <td>1.948832</td>\n",
       "      <td>-0.095195</td>\n",
       "      <td>1.047562</td>\n",
       "      <td>0.535561</td>\n",
       "      <td>...</td>\n",
       "      <td>0.706562</td>\n",
       "      <td>0.638372</td>\n",
       "      <td>-1.684259</td>\n",
       "      <td>1.631932</td>\n",
       "      <td>1.094045</td>\n",
       "      <td>1.064912</td>\n",
       "      <td>-5.064263</td>\n",
       "      <td>0.970960</td>\n",
       "      <td>-5.316797</td>\n",
       "      <td>2.547783</td>\n",
       "    </tr>\n",
       "    <tr>\n",
       "      <th>2023/3/30</th>\n",
       "      <td>-0.031994</td>\n",
       "      <td>-2.917947</td>\n",
       "      <td>-23.025851</td>\n",
       "      <td>-0.656872</td>\n",
       "      <td>1.933512</td>\n",
       "      <td>-1.002289</td>\n",
       "      <td>-3.357389</td>\n",
       "      <td>0.402058</td>\n",
       "      <td>-1.345675</td>\n",
       "      <td>-2.012470</td>\n",
       "      <td>...</td>\n",
       "      <td>2.072791</td>\n",
       "      <td>-1.479785</td>\n",
       "      <td>-0.013132</td>\n",
       "      <td>-0.964846</td>\n",
       "      <td>-1.179302</td>\n",
       "      <td>-1.446236</td>\n",
       "      <td>1.891190</td>\n",
       "      <td>0.610365</td>\n",
       "      <td>-0.674027</td>\n",
       "      <td>1.761663</td>\n",
       "    </tr>\n",
       "  </tbody>\n",
       "</table>\n",
       "<p>5287 rows × 331 columns</p>\n",
       "</div>\n",
       "    <div class=\"colab-df-buttons\">\n",
       "\n",
       "  <div class=\"colab-df-container\">\n",
       "    <button class=\"colab-df-convert\" onclick=\"convertToInteractive('df-2f408df3-5678-4d32-932d-c937bf1e538f')\"\n",
       "            title=\"Convert this dataframe to an interactive table.\"\n",
       "            style=\"display:none;\">\n",
       "\n",
       "  <svg xmlns=\"http://www.w3.org/2000/svg\" height=\"24px\" viewBox=\"0 -960 960 960\">\n",
       "    <path d=\"M120-120v-720h720v720H120Zm60-500h600v-160H180v160Zm220 220h160v-160H400v160Zm0 220h160v-160H400v160ZM180-400h160v-160H180v160Zm440 0h160v-160H620v160ZM180-180h160v-160H180v160Zm440 0h160v-160H620v160Z\"/>\n",
       "  </svg>\n",
       "    </button>\n",
       "\n",
       "  <style>\n",
       "    .colab-df-container {\n",
       "      display:flex;\n",
       "      gap: 12px;\n",
       "    }\n",
       "\n",
       "    .colab-df-convert {\n",
       "      background-color: #E8F0FE;\n",
       "      border: none;\n",
       "      border-radius: 50%;\n",
       "      cursor: pointer;\n",
       "      display: none;\n",
       "      fill: #1967D2;\n",
       "      height: 32px;\n",
       "      padding: 0 0 0 0;\n",
       "      width: 32px;\n",
       "    }\n",
       "\n",
       "    .colab-df-convert:hover {\n",
       "      background-color: #E2EBFA;\n",
       "      box-shadow: 0px 1px 2px rgba(60, 64, 67, 0.3), 0px 1px 3px 1px rgba(60, 64, 67, 0.15);\n",
       "      fill: #174EA6;\n",
       "    }\n",
       "\n",
       "    .colab-df-buttons div {\n",
       "      margin-bottom: 4px;\n",
       "    }\n",
       "\n",
       "    [theme=dark] .colab-df-convert {\n",
       "      background-color: #3B4455;\n",
       "      fill: #D2E3FC;\n",
       "    }\n",
       "\n",
       "    [theme=dark] .colab-df-convert:hover {\n",
       "      background-color: #434B5C;\n",
       "      box-shadow: 0px 1px 3px 1px rgba(0, 0, 0, 0.15);\n",
       "      filter: drop-shadow(0px 1px 2px rgba(0, 0, 0, 0.3));\n",
       "      fill: #FFFFFF;\n",
       "    }\n",
       "  </style>\n",
       "\n",
       "    <script>\n",
       "      const buttonEl =\n",
       "        document.querySelector('#df-2f408df3-5678-4d32-932d-c937bf1e538f button.colab-df-convert');\n",
       "      buttonEl.style.display =\n",
       "        google.colab.kernel.accessAllowed ? 'block' : 'none';\n",
       "\n",
       "      async function convertToInteractive(key) {\n",
       "        const element = document.querySelector('#df-2f408df3-5678-4d32-932d-c937bf1e538f');\n",
       "        const dataTable =\n",
       "          await google.colab.kernel.invokeFunction('convertToInteractive',\n",
       "                                                    [key], {});\n",
       "        if (!dataTable) return;\n",
       "\n",
       "        const docLinkHtml = 'Like what you see? Visit the ' +\n",
       "          '<a target=\"_blank\" href=https://colab.research.google.com/notebooks/data_table.ipynb>data table notebook</a>'\n",
       "          + ' to learn more about interactive tables.';\n",
       "        element.innerHTML = '';\n",
       "        dataTable['output_type'] = 'display_data';\n",
       "        await google.colab.output.renderOutput(dataTable, element);\n",
       "        const docLink = document.createElement('div');\n",
       "        docLink.innerHTML = docLinkHtml;\n",
       "        element.appendChild(docLink);\n",
       "      }\n",
       "    </script>\n",
       "  </div>\n",
       "\n",
       "\n",
       "<div id=\"df-e32243c9-6925-4f6d-8871-a811c33f2689\">\n",
       "  <button class=\"colab-df-quickchart\" onclick=\"quickchart('df-e32243c9-6925-4f6d-8871-a811c33f2689')\"\n",
       "            title=\"Suggest charts\"\n",
       "            style=\"display:none;\">\n",
       "\n",
       "<svg xmlns=\"http://www.w3.org/2000/svg\" height=\"24px\"viewBox=\"0 0 24 24\"\n",
       "     width=\"24px\">\n",
       "    <g>\n",
       "        <path d=\"M19 3H5c-1.1 0-2 .9-2 2v14c0 1.1.9 2 2 2h14c1.1 0 2-.9 2-2V5c0-1.1-.9-2-2-2zM9 17H7v-7h2v7zm4 0h-2V7h2v10zm4 0h-2v-4h2v4z\"/>\n",
       "    </g>\n",
       "</svg>\n",
       "  </button>\n",
       "\n",
       "<style>\n",
       "  .colab-df-quickchart {\n",
       "      --bg-color: #E8F0FE;\n",
       "      --fill-color: #1967D2;\n",
       "      --hover-bg-color: #E2EBFA;\n",
       "      --hover-fill-color: #174EA6;\n",
       "      --disabled-fill-color: #AAA;\n",
       "      --disabled-bg-color: #DDD;\n",
       "  }\n",
       "\n",
       "  [theme=dark] .colab-df-quickchart {\n",
       "      --bg-color: #3B4455;\n",
       "      --fill-color: #D2E3FC;\n",
       "      --hover-bg-color: #434B5C;\n",
       "      --hover-fill-color: #FFFFFF;\n",
       "      --disabled-bg-color: #3B4455;\n",
       "      --disabled-fill-color: #666;\n",
       "  }\n",
       "\n",
       "  .colab-df-quickchart {\n",
       "    background-color: var(--bg-color);\n",
       "    border: none;\n",
       "    border-radius: 50%;\n",
       "    cursor: pointer;\n",
       "    display: none;\n",
       "    fill: var(--fill-color);\n",
       "    height: 32px;\n",
       "    padding: 0;\n",
       "    width: 32px;\n",
       "  }\n",
       "\n",
       "  .colab-df-quickchart:hover {\n",
       "    background-color: var(--hover-bg-color);\n",
       "    box-shadow: 0 1px 2px rgba(60, 64, 67, 0.3), 0 1px 3px 1px rgba(60, 64, 67, 0.15);\n",
       "    fill: var(--button-hover-fill-color);\n",
       "  }\n",
       "\n",
       "  .colab-df-quickchart-complete:disabled,\n",
       "  .colab-df-quickchart-complete:disabled:hover {\n",
       "    background-color: var(--disabled-bg-color);\n",
       "    fill: var(--disabled-fill-color);\n",
       "    box-shadow: none;\n",
       "  }\n",
       "\n",
       "  .colab-df-spinner {\n",
       "    border: 2px solid var(--fill-color);\n",
       "    border-color: transparent;\n",
       "    border-bottom-color: var(--fill-color);\n",
       "    animation:\n",
       "      spin 1s steps(1) infinite;\n",
       "  }\n",
       "\n",
       "  @keyframes spin {\n",
       "    0% {\n",
       "      border-color: transparent;\n",
       "      border-bottom-color: var(--fill-color);\n",
       "      border-left-color: var(--fill-color);\n",
       "    }\n",
       "    20% {\n",
       "      border-color: transparent;\n",
       "      border-left-color: var(--fill-color);\n",
       "      border-top-color: var(--fill-color);\n",
       "    }\n",
       "    30% {\n",
       "      border-color: transparent;\n",
       "      border-left-color: var(--fill-color);\n",
       "      border-top-color: var(--fill-color);\n",
       "      border-right-color: var(--fill-color);\n",
       "    }\n",
       "    40% {\n",
       "      border-color: transparent;\n",
       "      border-right-color: var(--fill-color);\n",
       "      border-top-color: var(--fill-color);\n",
       "    }\n",
       "    60% {\n",
       "      border-color: transparent;\n",
       "      border-right-color: var(--fill-color);\n",
       "    }\n",
       "    80% {\n",
       "      border-color: transparent;\n",
       "      border-right-color: var(--fill-color);\n",
       "      border-bottom-color: var(--fill-color);\n",
       "    }\n",
       "    90% {\n",
       "      border-color: transparent;\n",
       "      border-bottom-color: var(--fill-color);\n",
       "    }\n",
       "  }\n",
       "</style>\n",
       "\n",
       "  <script>\n",
       "    async function quickchart(key) {\n",
       "      const quickchartButtonEl =\n",
       "        document.querySelector('#' + key + ' button');\n",
       "      quickchartButtonEl.disabled = true;  // To prevent multiple clicks.\n",
       "      quickchartButtonEl.classList.add('colab-df-spinner');\n",
       "      try {\n",
       "        const charts = await google.colab.kernel.invokeFunction(\n",
       "            'suggestCharts', [key], {});\n",
       "      } catch (error) {\n",
       "        console.error('Error during call to suggestCharts:', error);\n",
       "      }\n",
       "      quickchartButtonEl.classList.remove('colab-df-spinner');\n",
       "      quickchartButtonEl.classList.add('colab-df-quickchart-complete');\n",
       "    }\n",
       "    (() => {\n",
       "      let quickchartButtonEl =\n",
       "        document.querySelector('#df-e32243c9-6925-4f6d-8871-a811c33f2689 button');\n",
       "      quickchartButtonEl.style.display =\n",
       "        google.colab.kernel.accessAllowed ? 'block' : 'none';\n",
       "    })();\n",
       "  </script>\n",
       "</div>\n",
       "\n",
       "  <div id=\"id_5f1e3a89-b738-4e79-9629-2dbe395685cd\">\n",
       "    <style>\n",
       "      .colab-df-generate {\n",
       "        background-color: #E8F0FE;\n",
       "        border: none;\n",
       "        border-radius: 50%;\n",
       "        cursor: pointer;\n",
       "        display: none;\n",
       "        fill: #1967D2;\n",
       "        height: 32px;\n",
       "        padding: 0 0 0 0;\n",
       "        width: 32px;\n",
       "      }\n",
       "\n",
       "      .colab-df-generate:hover {\n",
       "        background-color: #E2EBFA;\n",
       "        box-shadow: 0px 1px 2px rgba(60, 64, 67, 0.3), 0px 1px 3px 1px rgba(60, 64, 67, 0.15);\n",
       "        fill: #174EA6;\n",
       "      }\n",
       "\n",
       "      [theme=dark] .colab-df-generate {\n",
       "        background-color: #3B4455;\n",
       "        fill: #D2E3FC;\n",
       "      }\n",
       "\n",
       "      [theme=dark] .colab-df-generate:hover {\n",
       "        background-color: #434B5C;\n",
       "        box-shadow: 0px 1px 3px 1px rgba(0, 0, 0, 0.15);\n",
       "        filter: drop-shadow(0px 1px 2px rgba(0, 0, 0, 0.3));\n",
       "        fill: #FFFFFF;\n",
       "      }\n",
       "    </style>\n",
       "    <button class=\"colab-df-generate\" onclick=\"generateWithVariable('dt_sl')\"\n",
       "            title=\"Generate code using this dataframe.\"\n",
       "            style=\"display:none;\">\n",
       "\n",
       "  <svg xmlns=\"http://www.w3.org/2000/svg\" height=\"24px\"viewBox=\"0 0 24 24\"\n",
       "       width=\"24px\">\n",
       "    <path d=\"M7,19H8.4L18.45,9,17,7.55,7,17.6ZM5,21V16.75L18.45,3.32a2,2,0,0,1,2.83,0l1.4,1.43a1.91,1.91,0,0,1,.58,1.4,1.91,1.91,0,0,1-.58,1.4L9.25,21ZM18.45,9,17,7.55Zm-12,3A5.31,5.31,0,0,0,4.9,8.1,5.31,5.31,0,0,0,1,6.5,5.31,5.31,0,0,0,4.9,4.9,5.31,5.31,0,0,0,6.5,1,5.31,5.31,0,0,0,8.1,4.9,5.31,5.31,0,0,0,12,6.5,5.46,5.46,0,0,0,6.5,12Z\"/>\n",
       "  </svg>\n",
       "    </button>\n",
       "    <script>\n",
       "      (() => {\n",
       "      const buttonEl =\n",
       "        document.querySelector('#id_5f1e3a89-b738-4e79-9629-2dbe395685cd button.colab-df-generate');\n",
       "      buttonEl.style.display =\n",
       "        google.colab.kernel.accessAllowed ? 'block' : 'none';\n",
       "\n",
       "      buttonEl.onclick = () => {\n",
       "        google.colab.notebook.generateWithVariable('dt_sl');\n",
       "      }\n",
       "      })();\n",
       "    </script>\n",
       "  </div>\n",
       "\n",
       "    </div>\n",
       "  </div>\n"
      ],
      "text/plain": [
       "           AAPL_Price  ABC_Price  ABIO_Price  ADBE_Price  ADI_Price  \\\n",
       "2002/4/2     0.949286  -1.300333    1.965883    3.154695   3.385076   \n",
       "2002/4/3     0.583101   1.113524    5.183503   -5.114101   2.056499   \n",
       "2002/4/4     3.107305  -4.533823    1.759050   -0.133742   0.281537   \n",
       "2002/4/5    -0.877924   1.563852   -2.819560    0.288527  -3.353203   \n",
       "2002/4/8    -0.628609   0.872525    1.763876    1.896064  -4.291335   \n",
       "...               ...        ...         ...         ...        ...   \n",
       "2023/3/24   -0.379590   2.543152    1.778423    0.942841  -0.137962   \n",
       "2023/3/27    0.425295  -3.442356   -1.459918   -1.451811   0.899582   \n",
       "2023/3/28   -1.838459  -0.366479    1.336973   -5.406879  -0.907530   \n",
       "2023/3/29    1.345629  -0.981890   -0.019884    0.851591   2.189648   \n",
       "2023/3/30   -0.031994  -2.917947  -23.025851   -0.656872   1.933512   \n",
       "\n",
       "           ADM_Price  ADP_Price  ADSK_Price  AEE_Price  AEP_Price  ...  \\\n",
       "2002/4/2   -5.288613  -0.070457    1.817846  -5.286608   0.286135  ...   \n",
       "2002/4/3    1.728616   2.226402    2.980924  -7.484443  -6.279253  ...   \n",
       "2002/4/4    2.204536 -23.025851   -1.656413  -2.072197   1.463512  ...   \n",
       "2002/4/5   -0.012795  -2.026955    0.513965  -1.706578  -0.706603  ...   \n",
       "2002/4/8    0.973718   0.545833    0.404514  -0.755662  -0.896573  ...   \n",
       "...              ...        ...         ...        ...        ...  ...   \n",
       "2023/3/24   1.336451  -2.867092   -1.559847   2.854401   2.878903  ...   \n",
       "2023/3/27   0.780151  -4.463287   -0.610603  -5.642995  -0.995275  ...   \n",
       "2023/3/28   0.046818  -4.645222   -0.582207  -0.747388  -1.696262  ...   \n",
       "2023/3/29  -1.164703   1.948832   -0.095195   1.047562   0.535561  ...   \n",
       "2023/3/30  -1.002289  -3.357389    0.402058  -1.345675  -2.012470  ...   \n",
       "\n",
       "           WM_Price  WMB_Price  WMT_Price  WY_Price  XEL_Price  XOM_Price  \\\n",
       "2002/4/2   1.597078   1.122558   0.123050 -0.308217   1.001912   0.441506   \n",
       "2002/4/3  -4.371841   3.058432  -1.154227 -2.576591  -2.908535   0.898254   \n",
       "2002/4/4  -3.792964  -1.142154   0.285994  0.401267  -1.265009   0.436150   \n",
       "2002/4/5   0.671795   1.844511  -2.884077  0.741382   1.408114   0.385247   \n",
       "2002/4/8  -5.151136  -3.000204   0.147139 -0.500090  -2.037560   0.702398   \n",
       "...             ...        ...        ...       ...        ...        ...   \n",
       "2023/3/24  1.803907   0.867212  -0.410818 -0.338050   2.492337  -4.308833   \n",
       "2023/3/27 -1.119475  -0.834295   1.010682 -1.163029  -1.845445   1.548452   \n",
       "2023/3/28 -0.435919  -3.144197  -1.887403 -0.039582  -3.563553   0.430091   \n",
       "2023/3/29  0.706562   0.638372  -1.684259  1.631932   1.094045   1.064912   \n",
       "2023/3/30  2.072791  -1.479785  -0.013132 -0.964846  -1.179302  -1.446236   \n",
       "\n",
       "           XRAY_Price  XRX_Price  YUM_Price  ZION_Price  \n",
       "2002/4/2    -1.104811   2.499663   0.181060   -2.489890  \n",
       "2002/4/3     0.097703  -4.739518  -0.051748    1.094494  \n",
       "2002/4/4     1.550125   0.379207  -1.398626    0.608525  \n",
       "2002/4/5    -2.602754   2.067665   0.199706   -2.313797  \n",
       "2002/4/8     2.840308   0.274733   0.710894   -0.363610  \n",
       "...               ...        ...        ...         ...  \n",
       "2023/3/24    0.561567  -1.469555  -4.284101    2.110522  \n",
       "2023/3/27   -0.578415   1.883327  -2.047752    2.644441  \n",
       "2023/3/28   -1.074030   1.773834  -3.621111    1.476095  \n",
       "2023/3/29   -5.064263   0.970960  -5.316797    2.547783  \n",
       "2023/3/30    1.891190   0.610365  -0.674027    1.761663  \n",
       "\n",
       "[5287 rows x 331 columns]"
      ]
     },
     "execution_count": 5,
     "metadata": {},
     "output_type": "execute_result"
    }
   ],
   "source": [
    "dt_sl = np.log(dt**2)\n",
    "dt_sl"
   ]
  },
  {
   "cell_type": "code",
   "execution_count": null,
   "metadata": {
    "id": "-UC43qZrHyOj"
   },
   "outputs": [],
   "source": [
    "x_data = dt_sl.loc['2002/11/26':'2023/3/29'].to_numpy()\n",
    "y_data = dt_sl.loc['2002/11/27':'2023/3/30'].to_numpy()"
   ]
  },
  {
   "cell_type": "code",
   "execution_count": null,
   "metadata": {
    "id": "4ORUsQ-PH6VM"
   },
   "outputs": [],
   "source": [
    "import pickle\n",
    "\n",
    "with open(f'../forecast/W1_fcst.pkl', 'rb') as f:\n",
    "    W1_fcst = pickle.load(f)\n",
    "\n",
    "with open(f'../forecast/W2_fcst.pkl', 'rb') as f:\n",
    "    W2_fcst = pickle.load(f)\n",
    "\n",
    "with open(f'../forecast/W_sar_fcst.pkl', 'rb') as f:\n",
    "    W_sar_fcst1 = pickle.load(f)\n",
    "\n",
    "with open(f'../forecast/W_sar_fcst_0.01threshold.pkl', 'rb') as f:\n",
    "    W_sar_fcst2 = pickle.load(f)\n",
    "\n",
    "with open(f'../forecast/W_sar_fcst_0.05threshold.pkl', 'rb') as f:\n",
    "    W_sar_fcst3 = pickle.load(f)\n",
    "\n",
    "with open(f'../forecast/W_sar_fcst_0.1threshold.pkl', 'rb') as f:\n",
    "    W_sar_fcst4 = pickle.load(f)\n",
    "\n",
    "with open(f'../forecast/W_deep_fcst.pkl', 'rb') as f:\n",
    "    W_deep_fcst1 = pickle.load(f)\n",
    "\n",
    "with open(f'../forecast/W_deep_fcst_0.01threshold.pkl', 'rb') as f:\n",
    "    W_deep_fcst2 = pickle.load(f)\n",
    "\n",
    "with open(f'../forecast/W_deep_fcst_0.05threshold.pkl', 'rb') as f:\n",
    "    W_deep_fcst3 = pickle.load(f)\n",
    "\n",
    "with open(f'../forecast/W_deep_fcst_0.1threshold.pkl', 'rb') as f:\n",
    "    W_deep_fcst4 = pickle.load(f)"
   ]
  },
  {
   "cell_type": "code",
   "execution_count": null,
   "metadata": {
    "id": "RymgF4QcIBo0"
   },
   "outputs": [],
   "source": [
    "actual = torch.from_numpy(y_data[-816:]).float()"
   ]
  },
  {
   "cell_type": "code",
   "execution_count": null,
   "metadata": {
    "colab": {
     "base_uri": "https://localhost:8080/"
    },
    "executionInfo": {
     "elapsed": 234,
     "status": "ok",
     "timestamp": 1733215174482,
     "user": {
      "displayName": "岩淵澪",
      "userId": "05436590555405210115"
     },
     "user_tz": -540
    },
    "id": "vP60kU_zIS9y",
    "outputId": "a7cba475-117f-4ac0-fc41-0e1836b707e4"
   },
   "outputs": [
    {
     "data": {
      "text/plain": [
       "tensor(3.5841, grad_fn=<MeanBackward0>)"
      ]
     },
     "execution_count": 9,
     "metadata": {},
     "output_type": "execute_result"
    }
   ],
   "source": [
    "RMSE1 = torch.sqrt(((W1_fcst - actual)**2).mean(dim=0))\n",
    "RMSE1.mean()"
   ]
  },
  {
   "cell_type": "code",
   "execution_count": null,
   "metadata": {
    "colab": {
     "base_uri": "https://localhost:8080/"
    },
    "executionInfo": {
     "elapsed": 267,
     "status": "ok",
     "timestamp": 1733215185344,
     "user": {
      "displayName": "岩淵澪",
      "userId": "05436590555405210115"
     },
     "user_tz": -540
    },
    "id": "vadalGL8JGIX",
    "outputId": "527cd148-444c-4182-8fa1-d8b039448023"
   },
   "outputs": [
    {
     "data": {
      "text/plain": [
       "tensor(3.4935, grad_fn=<MeanBackward0>)"
      ]
     },
     "execution_count": 10,
     "metadata": {},
     "output_type": "execute_result"
    }
   ],
   "source": [
    "RMSE2 =torch.sqrt(((W2_fcst - actual)**2).mean(dim=0))\n",
    "RMSE2.mean()"
   ]
  },
  {
   "cell_type": "code",
   "execution_count": null,
   "metadata": {
    "colab": {
     "base_uri": "https://localhost:8080/"
    },
    "executionInfo": {
     "elapsed": 220,
     "status": "ok",
     "timestamp": 1733215226296,
     "user": {
      "displayName": "岩淵澪",
      "userId": "05436590555405210115"
     },
     "user_tz": -540
    },
    "id": "r2BF4m8EJPXl",
    "outputId": "e17f35e5-d80b-4ca9-c2fb-b8fc25c2ba11"
   },
   "outputs": [
    {
     "data": {
      "text/plain": [
       "tensor(3.4454, grad_fn=<MeanBackward0>)"
      ]
     },
     "execution_count": 12,
     "metadata": {},
     "output_type": "execute_result"
    }
   ],
   "source": [
    "RMSE3_1 = torch.sqrt(((W_sar_fcst1 - actual)**2).mean(dim=0))\n",
    "RMSE3_1.mean()"
   ]
  },
  {
   "cell_type": "code",
   "execution_count": null,
   "metadata": {
    "colab": {
     "base_uri": "https://localhost:8080/"
    },
    "executionInfo": {
     "elapsed": 246,
     "status": "ok",
     "timestamp": 1733215240804,
     "user": {
      "displayName": "岩淵澪",
      "userId": "05436590555405210115"
     },
     "user_tz": -540
    },
    "id": "RbKrxx5xKRcj",
    "outputId": "5a86a4d4-19cf-4e24-dd91-b342cd393b3b"
   },
   "outputs": [
    {
     "data": {
      "text/plain": [
       "tensor(3.4324, grad_fn=<MeanBackward0>)"
      ]
     },
     "execution_count": 13,
     "metadata": {},
     "output_type": "execute_result"
    }
   ],
   "source": [
    "RMSE3_2 = torch.sqrt(((W_sar_fcst2 - actual)**2).mean(dim=0))\n",
    "RMSE3_2.mean()"
   ]
  },
  {
   "cell_type": "code",
   "execution_count": null,
   "metadata": {
    "colab": {
     "base_uri": "https://localhost:8080/"
    },
    "executionInfo": {
     "elapsed": 233,
     "status": "ok",
     "timestamp": 1733215255315,
     "user": {
      "displayName": "岩淵澪",
      "userId": "05436590555405210115"
     },
     "user_tz": -540
    },
    "id": "HIZw-G9ZWhtP",
    "outputId": "56f882f1-3451-4894-cfa5-5cdfae6940de"
   },
   "outputs": [
    {
     "data": {
      "text/plain": [
       "tensor(3.4384, grad_fn=<MeanBackward0>)"
      ]
     },
     "execution_count": 14,
     "metadata": {},
     "output_type": "execute_result"
    }
   ],
   "source": [
    "RMSE3_3 = torch.sqrt(((W_sar_fcst3 - actual)**2).mean(dim=0))\n",
    "RMSE3_3.mean()"
   ]
  },
  {
   "cell_type": "code",
   "execution_count": null,
   "metadata": {
    "colab": {
     "base_uri": "https://localhost:8080/"
    },
    "executionInfo": {
     "elapsed": 252,
     "status": "ok",
     "timestamp": 1733215269199,
     "user": {
      "displayName": "岩淵澪",
      "userId": "05436590555405210115"
     },
     "user_tz": -540
    },
    "id": "vVkjeugTdRQt",
    "outputId": "d3ef885b-78e0-4438-b2ec-6957413e2ea1"
   },
   "outputs": [
    {
     "data": {
      "text/plain": [
       "tensor(3.4432, grad_fn=<MeanBackward0>)"
      ]
     },
     "execution_count": 15,
     "metadata": {},
     "output_type": "execute_result"
    }
   ],
   "source": [
    "RMSE3_4 = torch.sqrt(((W_sar_fcst4 - actual)**2).mean(dim=0))\n",
    "RMSE3_4.mean()"
   ]
  },
  {
   "cell_type": "code",
   "execution_count": null,
   "metadata": {
    "colab": {
     "base_uri": "https://localhost:8080/"
    },
    "executionInfo": {
     "elapsed": 217,
     "status": "ok",
     "timestamp": 1733215287434,
     "user": {
      "displayName": "岩淵澪",
      "userId": "05436590555405210115"
     },
     "user_tz": -540
    },
    "id": "YYupN4bTJU6J",
    "outputId": "c6a41ab9-7923-4a14-96e0-863021935a43"
   },
   "outputs": [
    {
     "data": {
      "text/plain": [
       "tensor(3.4396, grad_fn=<MeanBackward0>)"
      ]
     },
     "execution_count": 16,
     "metadata": {},
     "output_type": "execute_result"
    }
   ],
   "source": [
    "RMSE4_1 = torch.sqrt(((W_deep_fcst1 - actual)**2).mean(dim=0))\n",
    "RMSE4_1.mean()"
   ]
  },
  {
   "cell_type": "code",
   "execution_count": null,
   "metadata": {
    "colab": {
     "base_uri": "https://localhost:8080/"
    },
    "executionInfo": {
     "elapsed": 218,
     "status": "ok",
     "timestamp": 1733215321383,
     "user": {
      "displayName": "岩淵澪",
      "userId": "05436590555405210115"
     },
     "user_tz": -540
    },
    "id": "qheck7l8KWkf",
    "outputId": "8f5224d5-5717-4f02-c171-94223b60d246"
   },
   "outputs": [
    {
     "data": {
      "text/plain": [
       "tensor(3.4259, grad_fn=<MeanBackward0>)"
      ]
     },
     "execution_count": 17,
     "metadata": {},
     "output_type": "execute_result"
    }
   ],
   "source": [
    "RMSE4_2 = torch.sqrt(((W_deep_fcst2 - actual)**2).mean(dim=0))\n",
    "RMSE4_2.mean()"
   ]
  },
  {
   "cell_type": "code",
   "execution_count": null,
   "metadata": {
    "colab": {
     "base_uri": "https://localhost:8080/"
    },
    "executionInfo": {
     "elapsed": 220,
     "status": "ok",
     "timestamp": 1733215334271,
     "user": {
      "displayName": "岩淵澪",
      "userId": "05436590555405210115"
     },
     "user_tz": -540
    },
    "id": "0Si4CRjrWmYk",
    "outputId": "7c8a935e-04e2-44e3-aa0f-263e18164747"
   },
   "outputs": [
    {
     "data": {
      "text/plain": [
       "tensor(3.4411, grad_fn=<MeanBackward0>)"
      ]
     },
     "execution_count": 18,
     "metadata": {},
     "output_type": "execute_result"
    }
   ],
   "source": [
    "RMSE4_3 = torch.sqrt(((W_deep_fcst3 - actual)**2).mean(dim=0))\n",
    "RMSE4_3.mean()"
   ]
  },
  {
   "cell_type": "code",
   "execution_count": null,
   "metadata": {
    "colab": {
     "base_uri": "https://localhost:8080/"
    },
    "executionInfo": {
     "elapsed": 240,
     "status": "ok",
     "timestamp": 1733215348498,
     "user": {
      "displayName": "岩淵澪",
      "userId": "05436590555405210115"
     },
     "user_tz": -540
    },
    "id": "cVD1hIiBdVeL",
    "outputId": "f7bfe417-93ed-423f-ade8-fbea80e27d99"
   },
   "outputs": [
    {
     "data": {
      "text/plain": [
       "tensor(3.4513, grad_fn=<MeanBackward0>)"
      ]
     },
     "execution_count": 19,
     "metadata": {},
     "output_type": "execute_result"
    }
   ],
   "source": [
    "RMSE4_4 = torch.sqrt(((W_deep_fcst4 - actual)**2).mean(dim=0))\n",
    "RMSE4_4.mean()"
   ]
  },
  {
   "cell_type": "code",
   "execution_count": null,
   "metadata": {
    "colab": {
     "base_uri": "https://localhost:8080/"
    },
    "executionInfo": {
     "elapsed": 254,
     "status": "ok",
     "timestamp": 1733210080719,
     "user": {
      "displayName": "岩淵澪",
      "userId": "05436590555405210115"
     },
     "user_tz": -540
    },
    "id": "p0th_WqIXlTi",
    "outputId": "1fa7d14f-6ca4-4c76-afef-4125d927230c"
   },
   "outputs": [
    {
     "data": {
      "text/plain": [
       "tensor(2.4956, grad_fn=<MeanBackward0>)"
      ]
     },
     "execution_count": 19,
     "metadata": {},
     "output_type": "execute_result"
    }
   ],
   "source": [
    "MAE1 = torch.abs(W1_fcst - actual).mean(dim=0)\n",
    "MAE1.mean()"
   ]
  },
  {
   "cell_type": "code",
   "execution_count": null,
   "metadata": {
    "colab": {
     "base_uri": "https://localhost:8080/"
    },
    "executionInfo": {
     "elapsed": 278,
     "status": "ok",
     "timestamp": 1733210108152,
     "user": {
      "displayName": "岩淵澪",
      "userId": "05436590555405210115"
     },
     "user_tz": -540
    },
    "id": "16RM0FFPX0Hb",
    "outputId": "05d3c655-d3f7-4fa4-fbde-5f1b4f085aa5"
   },
   "outputs": [
    {
     "data": {
      "text/plain": [
       "tensor(2.4118, grad_fn=<MeanBackward0>)"
      ]
     },
     "execution_count": 20,
     "metadata": {},
     "output_type": "execute_result"
    }
   ],
   "source": [
    "MAE2 = torch.abs(W2_fcst - actual).mean(dim=0)\n",
    "MAE2.mean()"
   ]
  },
  {
   "cell_type": "code",
   "execution_count": null,
   "metadata": {
    "colab": {
     "base_uri": "https://localhost:8080/"
    },
    "executionInfo": {
     "elapsed": 240,
     "status": "ok",
     "timestamp": 1733210138712,
     "user": {
      "displayName": "岩淵澪",
      "userId": "05436590555405210115"
     },
     "user_tz": -540
    },
    "id": "N-7Q8jUZX3e_",
    "outputId": "042b8660-ecf2-4044-f765-b2214bfebdda"
   },
   "outputs": [
    {
     "data": {
      "text/plain": [
       "tensor(2.3880, grad_fn=<MeanBackward0>)"
      ]
     },
     "execution_count": 21,
     "metadata": {},
     "output_type": "execute_result"
    }
   ],
   "source": [
    "MAE3_1 = torch.abs(W_sar_fcst1 - actual).mean(dim=0)\n",
    "MAE3_1.mean()"
   ]
  },
  {
   "cell_type": "code",
   "execution_count": null,
   "metadata": {
    "colab": {
     "base_uri": "https://localhost:8080/"
    },
    "executionInfo": {
     "elapsed": 247,
     "status": "ok",
     "timestamp": 1733210149994,
     "user": {
      "displayName": "岩淵澪",
      "userId": "05436590555405210115"
     },
     "user_tz": -540
    },
    "id": "4AeRuKJ8X_et",
    "outputId": "bc24b4a9-fa58-4fc4-bac3-7bd9deff66e5"
   },
   "outputs": [
    {
     "data": {
      "text/plain": [
       "tensor(2.3682, grad_fn=<MeanBackward0>)"
      ]
     },
     "execution_count": 22,
     "metadata": {},
     "output_type": "execute_result"
    }
   ],
   "source": [
    "MAE3_2 = torch.abs(W_sar_fcst2 - actual).mean(dim=0)\n",
    "MAE3_2.mean()"
   ]
  },
  {
   "cell_type": "code",
   "execution_count": null,
   "metadata": {
    "colab": {
     "base_uri": "https://localhost:8080/"
    },
    "executionInfo": {
     "elapsed": 7,
     "status": "ok",
     "timestamp": 1733210165264,
     "user": {
      "displayName": "岩淵澪",
      "userId": "05436590555405210115"
     },
     "user_tz": -540
    },
    "id": "RwP2O6onYCoH",
    "outputId": "84093da0-6333-47ca-b4ce-f3f0d6ce2c13"
   },
   "outputs": [
    {
     "data": {
      "text/plain": [
       "tensor(2.3598, grad_fn=<MeanBackward0>)"
      ]
     },
     "execution_count": 23,
     "metadata": {},
     "output_type": "execute_result"
    }
   ],
   "source": [
    "MAE3_3 = torch.abs(W_sar_fcst3 - actual).mean(dim=0)\n",
    "MAE3_3.mean()"
   ]
  },
  {
   "cell_type": "code",
   "execution_count": null,
   "metadata": {
    "colab": {
     "base_uri": "https://localhost:8080/"
    },
    "executionInfo": {
     "elapsed": 273,
     "status": "ok",
     "timestamp": 1733211579624,
     "user": {
      "displayName": "岩淵澪",
      "userId": "05436590555405210115"
     },
     "user_tz": -540
    },
    "id": "IqO_elVJdZzI",
    "outputId": "afc41e3b-e821-4932-e51f-a5b0a07dbf09"
   },
   "outputs": [
    {
     "data": {
      "text/plain": [
       "tensor(2.3575, grad_fn=<MeanBackward0>)"
      ]
     },
     "execution_count": 32,
     "metadata": {},
     "output_type": "execute_result"
    }
   ],
   "source": [
    "MAE3_4 = torch.abs(W_sar_fcst4 - actual).mean(dim=0)\n",
    "MAE3_4.mean()"
   ]
  },
  {
   "cell_type": "code",
   "execution_count": null,
   "metadata": {
    "colab": {
     "base_uri": "https://localhost:8080/"
    },
    "executionInfo": {
     "elapsed": 236,
     "status": "ok",
     "timestamp": 1733210226926,
     "user": {
      "displayName": "岩淵澪",
      "userId": "05436590555405210115"
     },
     "user_tz": -540
    },
    "id": "HOhiTzPSYLyh",
    "outputId": "0c5a7b7a-a167-4c5f-c158-39d09aa7d7ca"
   },
   "outputs": [
    {
     "data": {
      "text/plain": [
       "tensor(2.3882, grad_fn=<MeanBackward0>)"
      ]
     },
     "execution_count": 26,
     "metadata": {},
     "output_type": "execute_result"
    }
   ],
   "source": [
    "MAE4_1 = torch.abs(W_deep_fcst1 - actual).mean(dim=0)\n",
    "MAE4_1.mean()"
   ]
  },
  {
   "cell_type": "code",
   "execution_count": null,
   "metadata": {
    "colab": {
     "base_uri": "https://localhost:8080/"
    },
    "executionInfo": {
     "elapsed": 245,
     "status": "ok",
     "timestamp": 1733210235736,
     "user": {
      "displayName": "岩淵澪",
      "userId": "05436590555405210115"
     },
     "user_tz": -540
    },
    "id": "mBd-7ciBYRbK",
    "outputId": "ec774691-ceb1-40ef-81ba-7a2c59a1697d"
   },
   "outputs": [
    {
     "data": {
      "text/plain": [
       "tensor(2.3652, grad_fn=<MeanBackward0>)"
      ]
     },
     "execution_count": 27,
     "metadata": {},
     "output_type": "execute_result"
    }
   ],
   "source": [
    "MAE4_2 = torch.abs(W_deep_fcst2 - actual).mean(dim=0)\n",
    "MAE4_2.mean()"
   ]
  },
  {
   "cell_type": "code",
   "execution_count": null,
   "metadata": {
    "colab": {
     "base_uri": "https://localhost:8080/"
    },
    "executionInfo": {
     "elapsed": 263,
     "status": "ok",
     "timestamp": 1733210255210,
     "user": {
      "displayName": "岩淵澪",
      "userId": "05436590555405210115"
     },
     "user_tz": -540
    },
    "id": "6vMr_Xl1YXZ9",
    "outputId": "19b3fd25-b186-486d-d4b1-eb7ab0f9e560"
   },
   "outputs": [
    {
     "data": {
      "text/plain": [
       "tensor(2.3570, grad_fn=<MeanBackward0>)"
      ]
     },
     "execution_count": 28,
     "metadata": {},
     "output_type": "execute_result"
    }
   ],
   "source": [
    "MAE4_3 = torch.abs(W_deep_fcst3 - actual).mean(dim=0)\n",
    "MAE4_3.mean()"
   ]
  },
  {
   "cell_type": "code",
   "execution_count": null,
   "metadata": {
    "colab": {
     "base_uri": "https://localhost:8080/"
    },
    "executionInfo": {
     "elapsed": 333,
     "status": "ok",
     "timestamp": 1733211600746,
     "user": {
      "displayName": "岩淵澪",
      "userId": "05436590555405210115"
     },
     "user_tz": -540
    },
    "id": "QQCxgQVddhaY",
    "outputId": "cf349538-06a2-48aa-d700-e2fa73f55d7c"
   },
   "outputs": [
    {
     "data": {
      "text/plain": [
       "tensor(2.3585, grad_fn=<MeanBackward0>)"
      ]
     },
     "execution_count": 33,
     "metadata": {},
     "output_type": "execute_result"
    }
   ],
   "source": [
    "MAE4_4 = torch.abs(W_deep_fcst4 - actual).mean(dim=0)\n",
    "MAE4_4.mean()"
   ]
  }
 ],
 "metadata": {
  "colab": {
   "authorship_tag": "ABX9TyOqhmwXqHmCQPW/s8FkIDvV",
   "provenance": []
  },
  "kernelspec": {
   "display_name": "Python 3",
   "name": "python3"
  },
  "language_info": {
   "name": "python"
  },
  "widgets": {
   "application/vnd.jupyter.widget-state+json": {
    "state": {},
    "version_major": 2,
    "version_minor": 0
   }
  }
 },
 "nbformat": 4,
 "nbformat_minor": 0
}
